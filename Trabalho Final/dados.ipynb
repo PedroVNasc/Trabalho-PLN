{
 "cells": [
  {
   "cell_type": "code",
   "execution_count": null,
   "metadata": {},
   "outputs": [],
   "source": [
    "# !7z x ./dados/brwac.vert.7z"
   ]
  },
  {
   "cell_type": "code",
   "execution_count": null,
   "metadata": {},
   "outputs": [],
   "source": [
    "# import datasets\n",
    "\n",
    "# data = datasets.load_dataset(\"brwac\", data_dir=\"./dados/\")"
   ]
  },
  {
   "cell_type": "code",
   "execution_count": null,
   "metadata": {},
   "outputs": [],
   "source": [
    "# print(data['train'][1]['doc_id'])\n",
    "\n",
    "# # len(data['train'])\n",
    "\n",
    "# teste = {}\n",
    "\n",
    "# for i in range(len(data['train'])):\n",
    "#     value = data['train'][i]['doc_id'].split('-')[0]\n",
    "#     if value not in teste:\n",
    "#         teste[value] = 1\n",
    "#     else:\n",
    "#         teste[value] += 1"
   ]
  },
  {
   "cell_type": "code",
   "execution_count": null,
   "metadata": {},
   "outputs": [],
   "source": [
    "# teste = {'netg': 123959, 'netj': 108874, 'netab': 93151, 'netv': 104846, 'nety': 93462, 'netq': 76743, 'netd': 146032, 'netm': 106336, 'nets': 79916, 'netu': 78091, 'netz': 93853, 'netn': 106317, 'netc': 124091, 'neti': 107389, 'net': 396854,\n",
    "#          'netx': 93461, 'netp': 105343, 'netk': 108614, 'netw': 93351, 'netac': 93130, 'netad': 17791, 'netf': 123884, 'neth': 123784, 'netb': 299188, 'netaa': 94098, 'neto': 105912, 'netr': 106033, 'netl': 107628, 'nett': 94412, 'nete': 124253}"
   ]
  },
  {
   "cell_type": "code",
   "execution_count": null,
   "metadata": {},
   "outputs": [],
   "source": [
    "# qtd = sum(teste.values())\n",
    "# qtd"
   ]
  },
  {
   "cell_type": "code",
   "execution_count": null,
   "metadata": {},
   "outputs": [],
   "source": [
    "# import pandas as pd\n",
    "\n",
    "# classes = teste.keys()\n",
    "# ck_size = 100000\n",
    "# df_iterator = pd.read_csv('brwac.csv', chunksize=ck_size)\n",
    "    \n",
    "# for c in classes:\n",
    "#     open(f\"{c}.csv\", 'w').close()\n",
    "    \n",
    "# for i, df in enumerate(df_iterator, start=1):\n",
    "#     df['doc_id'] = df['doc_id'].apply(lambda x: x.split('-')[0])\n",
    "    \n",
    "#     for c in classes:\n",
    "#         df[df['doc_id'] == c].to_csv(f\"{c}.csv\", mode='a', header=False, index=False)\n",
    "    \n",
    "#     print('%.2f%%: %d/%d' % (i / (qtd / ck_size) * 100, i, (qtd / ck_size)))"
   ]
  },
  {
   "cell_type": "code",
   "execution_count": null,
   "metadata": {},
   "outputs": [],
   "source": [
    "# headers = ['id', 'title', 'uri', 'text']\n",
    "# for c in classes:\n",
    "#     pd.read_csv(f\"{c}.csv\", names=headers).to_csv(f\"{c}.complete.csv\", index=False)"
   ]
  },
  {
   "cell_type": "code",
   "execution_count": null,
   "metadata": {},
   "outputs": [],
   "source": [
    "# for c in classes:\n",
    "#     !tar -cvfz {c}.complete.tar.gz {c}.complete.csv"
   ]
  },
  {
   "cell_type": "code",
   "execution_count": null,
   "metadata": {},
   "outputs": [],
   "source": [
    "import pandas as pd\n",
    "\n",
    "classes = {\n",
    "    'caras': 0,\n",
    "    'esporte': 0,\n",
    "    'noticias': 0,\n",
    "    'folha': 0,\n",
    "    'educacao': 0,\n",
    "    'jogos': 0,\n",
    "    'tecnologia': 0,\n",
    "}"
   ]
  },
  {
   "cell_type": "code",
   "execution_count": null,
   "metadata": {},
   "outputs": [],
   "source": [
    "headers = ['id', 'title', 'uri', 'text']\n",
    "\n",
    "df = pd.DataFrame(columns=headers)\n",
    "\n",
    "for c in classes.keys():\n",
    "    df.to_csv(f\"{c}.brwac.csv\", index=False)"
   ]
  },
  {
   "cell_type": "code",
   "execution_count": null,
   "metadata": {},
   "outputs": [],
   "source": [
    "base_uri = 'uol.com.br'\n",
    "\n",
    "ck_size = 100000\n",
    "df_iterator = pd.read_csv('brwac.csv', chunksize=ck_size)\n",
    "    \n",
    "for df in df_iterator:\n",
    "    for c in classes.keys():\n",
    "        df[df['uri'].str.contains(f'{c}.{base_uri}')].to_csv(f\"{c}.brwac.csv\", mode='a', header=False, index=False)\n",
    "        \n",
    "        classes[c] += df[df['uri'].str.contains(f'{c}.{base_uri}')].shape[0]\n",
    "        print(f'{c}.{base_uri}: {classes[c]}')\n",
    "        \n",
    "    print()\n",
    "    "
   ]
  }
 ],
 "metadata": {
  "kernelspec": {
   "display_name": "Python 3",
   "language": "python",
   "name": "python3"
  },
  "language_info": {
   "codemirror_mode": {
    "name": "ipython",
    "version": 3
   },
   "file_extension": ".py",
   "mimetype": "text/x-python",
   "name": "python",
   "nbconvert_exporter": "python",
   "pygments_lexer": "ipython3",
   "version": "3.10.0"
  }
 },
 "nbformat": 4,
 "nbformat_minor": 2
}
