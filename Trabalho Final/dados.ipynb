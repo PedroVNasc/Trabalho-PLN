{
 "cells": [
  {
   "cell_type": "code",
   "execution_count": null,
   "metadata": {},
   "outputs": [],
   "source": [
    "link = \"'https://cvws.icloud-content.com/B/AV1lA5h3qVpOykvyx-wc2pvOoRUYATym0qpho_1Fb0ApUC6-ToYrPjzH/brwac.vert.7z?o=AiLL3dayWIYqRwP6aKAiK_QACdJVQo72VzpceeCfE_ke&v=1&x=3&a=CAog-TwwSsrt-P8KZa30qpUUhjGrkWdDGeIC1qi1mdgYFzgSbRCxuPaY_zEYsZXSmv8xIgEAUgTOoRUYWgQrPjzHaiZFeDUFOojHH4SoSXRJYhPWDyhEueqbbPwKbAahazE3u1AOtLNqEnIm41AzJdjKABwmUrLjlotqNbCUdbw2ays92b03ECLrAEWjHBlq3u8&e=1717774355&fl=&r=df26848e-e58b-478e-b2f8-d3ac61ca52dd-1&k=PSiLuEPjOKtNNeq0ZN0jrg&ckc=com.apple.clouddocs&ckz=com.apple.CloudDocs&p=154&s=_5U6Gb9Apg9xEW9peXUBMAVrz9c&+=e8002e0e-ad7f-460d-ab8c-18dd6476e73b'\"\n",
    "filename = \"brwac.vert.7z\"\n",
    "\n",
    "!wget $link -O $filename"
   ]
  },
  {
   "cell_type": "code",
   "execution_count": null,
   "metadata": {},
   "outputs": [],
   "source": [
    "!7z x ./dados/brwac.vert.7z"
   ]
  },
  {
   "cell_type": "code",
   "execution_count": null,
   "metadata": {},
   "outputs": [],
   "source": [
    "import datasets\n",
    "\n",
    "data = datasets.load_dataset(\"brwac\", data_dir=\"./dados/\")"
   ]
  },
  {
   "cell_type": "code",
   "execution_count": null,
   "metadata": {},
   "outputs": [],
   "source": [
    "print(data['train'][1]['doc_id'])\n",
    "\n",
    "# len(data['train'])\n",
    "\n",
    "teste = {}\n",
    "\n",
    "for i in range(len(data['train'])):\n",
    "    value = data['train'][i]['doc_id'].split('-')[0]\n",
    "    if value not in teste:\n",
    "        teste[value] = 1\n",
    "    else:\n",
    "        teste[value] += 1"
   ]
  },
  {
   "cell_type": "code",
   "execution_count": 2,
   "metadata": {},
   "outputs": [],
   "source": [
    "teste = {'netg': 123959, 'netj': 108874, 'netab': 93151, 'netv': 104846, 'nety': 93462, 'netq': 76743, 'netd': 146032, 'netm': 106336, 'nets': 79916, 'netu': 78091, 'netz': 93853, 'netn': 106317, 'netc': 124091, 'neti': 107389, 'net': 396854,\n",
    "         'netx': 93461, 'netp': 105343, 'netk': 108614, 'netw': 93351, 'netac': 93130, 'netad': 17791, 'netf': 123884, 'neth': 123784, 'netb': 299188, 'netaa': 94098, 'neto': 105912, 'netr': 106033, 'netl': 107628, 'nett': 94412, 'nete': 124253}"
   ]
  },
  {
   "cell_type": "code",
   "execution_count": 3,
   "metadata": {},
   "outputs": [
    {
     "data": {
      "text/plain": [
       "3530796"
      ]
     },
     "execution_count": 3,
     "metadata": {},
     "output_type": "execute_result"
    }
   ],
   "source": [
    "qtd = sum(teste.values())\n",
    "qtd"
   ]
  },
  {
   "cell_type": "code",
   "execution_count": 4,
   "metadata": {},
   "outputs": [
    {
     "name": "stdout",
     "output_type": "stream",
     "text": [
      "2.83%: 1/35\n",
      "5.66%: 2/35\n",
      "8.50%: 3/35\n",
      "11.33%: 4/35\n",
      "14.16%: 5/35\n",
      "16.99%: 6/35\n",
      "19.83%: 7/35\n",
      "22.66%: 8/35\n",
      "25.49%: 9/35\n",
      "28.32%: 10/35\n",
      "31.15%: 11/35\n",
      "33.99%: 12/35\n",
      "36.82%: 13/35\n",
      "39.65%: 14/35\n",
      "42.48%: 15/35\n",
      "45.32%: 16/35\n",
      "48.15%: 17/35\n",
      "50.98%: 18/35\n",
      "53.81%: 19/35\n",
      "56.64%: 20/35\n",
      "59.48%: 21/35\n",
      "62.31%: 22/35\n",
      "65.14%: 23/35\n",
      "67.97%: 24/35\n",
      "70.81%: 25/35\n",
      "73.64%: 26/35\n",
      "76.47%: 27/35\n",
      "79.30%: 28/35\n",
      "82.13%: 29/35\n",
      "84.97%: 30/35\n",
      "87.80%: 31/35\n",
      "90.63%: 32/35\n",
      "93.46%: 33/35\n",
      "96.30%: 34/35\n",
      "99.13%: 35/35\n",
      "101.96%: 36/35\n"
     ]
    }
   ],
   "source": [
    "import pandas as pd\n",
    "\n",
    "classes = teste.keys()\n",
    "ck_size = 100000\n",
    "df_iterator = pd.read_csv('brwac.csv', chunksize=ck_size)\n",
    "    \n",
    "for c in classes:\n",
    "    open(f\"{c}.csv\", 'w').close()\n",
    "    \n",
    "for i, df in enumerate(df_iterator, start=1):\n",
    "    df['doc_id'] = df['doc_id'].apply(lambda x: x.split('-')[0])\n",
    "    \n",
    "    for c in classes:\n",
    "        df[df['doc_id'] == c].to_csv(f\"{c}.csv\", mode='a', header=False, index=False)\n",
    "    \n",
    "    print('%.2f%%: %d/%d' % (i / (qtd / ck_size) * 100, i, (qtd / ck_size)))"
   ]
  },
  {
   "cell_type": "code",
   "execution_count": null,
   "metadata": {},
   "outputs": [],
   "source": []
  },
  {
   "cell_type": "code",
   "execution_count": 5,
   "metadata": {},
   "outputs": [],
   "source": [
    "headers = ['id', 'title', 'uri', 'text']\n",
    "for c in classes:\n",
    "    pd.read_csv(f\"{c}.csv\", names=headers).to_csv(f\"{c}.complete.csv\", index=False)"
   ]
  },
  {
   "cell_type": "code",
   "execution_count": null,
   "metadata": {},
   "outputs": [],
   "source": [
    "for c in classes:\n",
    "    !tar -cvfz {c}.complete.tar.gz {c}.complete.csv"
   ]
  }
 ],
 "metadata": {
  "kernelspec": {
   "display_name": "Python 3",
   "language": "python",
   "name": "python3"
  },
  "language_info": {
   "codemirror_mode": {
    "name": "ipython",
    "version": 3
   },
   "file_extension": ".py",
   "mimetype": "text/x-python",
   "name": "python",
   "nbconvert_exporter": "python",
   "pygments_lexer": "ipython3",
   "version": "3.10.0"
  }
 },
 "nbformat": 4,
 "nbformat_minor": 2
}
