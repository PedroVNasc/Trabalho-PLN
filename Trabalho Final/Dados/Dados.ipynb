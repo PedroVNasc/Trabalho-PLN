{
 "cells": [
  {
   "cell_type": "markdown",
   "metadata": {},
   "source": [
    "# Processamento dos dados do Corpus"
   ]
  },
  {
   "cell_type": "markdown",
   "metadata": {},
   "source": [
    "## Extração dos dados\n",
    "\n",
    "Foi utilizado o brwac.vert como fonte para os dados de treinamento dos modelos. Para obter acesso a ele, siga as instruções em:\n",
    "\n",
    " [https://www.inf.ufrgs.br/pln/wiki/index.php?title=BrWaC](https://www.inf.ufrgs.br/pln/wiki/index.php?title=BrWaC)"
   ]
  },
  {
   "cell_type": "code",
   "execution_count": 4,
   "metadata": {},
   "outputs": [],
   "source": [
    "import datasets\n",
    "import pandas as pd\n",
    "\n",
    "brwac_folder = './data'\n"
   ]
  },
  {
   "cell_type": "code",
   "execution_count": 4,
   "metadata": {},
   "outputs": [
    {
     "name": "stdout",
     "output_type": "stream",
     "text": [
      "\n",
      "7-Zip [64] 16.02 : Copyright (c) 1999-2016 Igor Pavlov : 2016-05-21\n",
      "p7zip Version 16.02 (locale=pt_BR.UTF-8,Utf16=on,HugeFiles=on,64 bits,8 CPUs AMD Ryzen 5 3500U with Radeon Vega Mobile Gfx   (810F81),ASM,AES-NI)\n",
      "\n",
      "Scanning the drive for archives:\n",
      "  0M Scan ./brwa                1 file, 4778375677 bytes (4558 MiB)\n",
      "\n",
      "Extracting archive: ./brwac/brwac.vert.7z\n",
      "--\n",
      "Path = ./brwac/brwac.vert.7z\n",
      "Type = 7z\n",
      "Physical Size = 4778375677\n",
      "Headers Size = 130\n",
      "Method = LZMA2:26\n",
      "Solid = -\n",
      "Blocks = 1\n",
      "\n",
      "      0% - brwac.ver                  1% - brwac.ver                  2% - brwac.ver                  3% - brwac.ver                  4% - brwac.ver                  5% - brwac.ver                  6% - brwac.ver                  7% - brwac.ver                  8% - brwac.ver                  9% - brwac.ver                 10% - brwac.ver                 11% - brwac.ver                 12% - brwac.ver                 13% - brwac.ver                 14% - brwac.ver                 15% - brwac.ver                 16% - brwac.ver                 17% - brwac.ver                 18% - brwac.ver                 19% - brwac.ver                 20% - brwac.ver                 21% - brwac.ver                 22% - brwac.ver                 23% - brwac.ver                 24% - brwac.ver                 25% - brwac.ver                 26% - brwac.ver                 27% - brwac.ver                 28% - brwac.ver                 29% - brwac.ver                 30% - brwac.ver                 31% - brwac.ver                 32% - brwac.ver                 33% - brwac.ver                 34% - brwac.ver                 35% - brwac.ver                 36% - brwac.ver                 37% - brwac.ver                 38% - brwac.ver                 39% - brwac.ver                 40% - brwac.ver                 41% - brwac.ver                 42% - brwac.ver                 43% - brwac.ver                 44% - brwac.ver                 45% - brwac.ver                 46% - brwac.ver                 47% - brwac.ver                 48% - brwac.ver                 49% - brwac.ver                 50% - brwac.ver                 51% - brwac.ver                 52% - brwac.ver                 53% - brwac.ver                 54% - brwac.ver                 55% - brwac.ver                 56% - brwac.ver                 57% - brwac.ver                 58% - brwac.ver                 59% - brwac.ver                 60% - brwac.ver                 61% - brwac.ver                 62% - brwac.ver                 63% - brwac.ver                 64% - brwac.ver                 65% - brwac.ver                 66% - brwac.ver                 67% - brwac.ver                 68% - brwac.ver                 69% - brwac.ver                 70% - brwac.ver                 71% - brwac.ver                 72% - brwac.ver                 73% - brwac.ver                 74% - brwac.ver                 75% - brwac.ver                 76% - brwac.ver                 77% - brwac.ver                 78% - brwac.ver                 79% - brwac.ver                 80% - brwac.ver                 81% - brwac.ver                 82% - brwac.ver                 83% - brwac.ver                 84% - brwac.ver                 85% - brwac.ver                 86% - brwac.ver                 87% - brwac.ver                 88% - brwac.ver                 89% - brwac.ver                 90% - brwac.ver                 91% - brwac.ver                 92% - brwac.ver                 93% - brwac.ver                 94% - brwac.ver                 95% - brwac.ver                 96% - brwac.ver                 97% - brwac.ver                 98% - brwac.ver                 99% - brwac.ver                100%    Everything is Ok\n",
      "\n",
      "Size:       22629286385\n",
      "Compressed: 4778375677\n"
     ]
    }
   ],
   "source": [
    "!7z x brwac.vert.7z -odata"
   ]
  },
  {
   "cell_type": "code",
   "execution_count": 16,
   "metadata": {},
   "outputs": [
    {
     "data": {
      "application/vnd.jupyter.widget-view+json": {
       "model_id": "839af0b86cec4bd2877db76c108fafbb",
       "version_major": 2,
       "version_minor": 0
      },
      "text/plain": [
       "Generating train split:   0%|          | 0/3530796 [00:00<?, ? examples/s]"
      ]
     },
     "metadata": {},
     "output_type": "display_data"
    },
    {
     "data": {
      "application/vnd.jupyter.widget-view+json": {
       "model_id": "083302452bee4a8895681c33fab9e97f",
       "version_major": 2,
       "version_minor": 0
      },
      "text/plain": [
       "Loading dataset shards:   0%|          | 0/38 [00:00<?, ?it/s]"
      ]
     },
     "metadata": {},
     "output_type": "display_data"
    }
   ],
   "source": [
    "data = datasets.load_dataset(\"brwac\", data_dir=\"data\")"
   ]
  },
  {
   "cell_type": "code",
   "execution_count": 20,
   "metadata": {},
   "outputs": [
    {
     "name": "stdout",
     "output_type": "stream",
     "text": [
      "Dataset({\n",
      "    features: ['doc_id', 'title', 'uri', 'text'],\n",
      "    num_rows: 3530796\n",
      "})\n"
     ]
    }
   ],
   "source": [
    "print(data['train'])"
   ]
  },
  {
   "cell_type": "code",
   "execution_count": 21,
   "metadata": {},
   "outputs": [
    {
     "data": {
      "application/vnd.jupyter.widget-view+json": {
       "model_id": "aedcd6ffdcc649b2b177fc105249bb77",
       "version_major": 2,
       "version_minor": 0
      },
      "text/plain": [
       "Creating CSV from Arrow format:   0%|          | 0/3531 [00:00<?, ?ba/s]"
      ]
     },
     "metadata": {},
     "output_type": "display_data"
    }
   ],
   "source": [
    "data['train'].to_csv('brwac.csv', index=False)"
   ]
  },
  {
   "cell_type": "markdown",
   "metadata": {},
   "source": [
    "## Recorte dos dados\n",
    "\n",
    "Para facilitar a classificação dos dados, foi escolhido um subset do brwac contendo apenas dados de subpáginas UOL."
   ]
  },
  {
   "cell_type": "code",
   "execution_count": null,
   "metadata": {},
   "outputs": [],
   "source": [
    "classes = {\n",
    "    'caras': 0,\n",
    "    'esporte': 0,\n",
    "    'noticias': 0,\n",
    "    'folha': 0,\n",
    "    'educacao': 0,\n",
    "    'jogos': 0,\n",
    "    'tecnologia': 0,\n",
    "}\n",
    "\n",
    "base_uri = 'uol.com.br'"
   ]
  },
  {
   "cell_type": "markdown",
   "metadata": {},
   "source": [
    "### Cria os arquivos CSV das classes"
   ]
  },
  {
   "cell_type": "code",
   "execution_count": null,
   "metadata": {},
   "outputs": [],
   "source": [
    "headers = ['id', 'title', 'uri', 'text']\n",
    "\n",
    "df = pd.DataFrame(columns=headers)\n",
    "\n",
    "for c in classes.keys():\n",
    "    df.to_csv(f\"{c}.brwac.csv\", index=False)"
   ]
  },
  {
   "cell_type": "code",
   "execution_count": null,
   "metadata": {},
   "outputs": [],
   "source": [
    "ck_size = 100000\n",
    "df_iterator = pd.read_csv('brwac.csv', chunksize=ck_size)\n",
    "    \n",
    "for df in df_iterator:\n",
    "    for c in classes.keys():\n",
    "        df[df['uri'].str.contains(f'{c}.{base_uri}')].to_csv(f\"{c}.brwac.csv\", mode='a', header=False, index=False)\n",
    "        \n",
    "        classes[c] += df[df['uri'].str.contains(f'{c}.{base_uri}')].shape[0]\n",
    "        print(f'{c}.{base_uri}: {classes[c]}')\n",
    "        \n",
    "    print()\n",
    "    "
   ]
  }
 ],
 "metadata": {
  "kernelspec": {
   "display_name": "Python 3",
   "language": "python",
   "name": "python3"
  },
  "language_info": {
   "codemirror_mode": {
    "name": "ipython",
    "version": 3
   },
   "file_extension": ".py",
   "mimetype": "text/x-python",
   "name": "python",
   "nbconvert_exporter": "python",
   "pygments_lexer": "ipython3",
   "version": "3.10.0"
  }
 },
 "nbformat": 4,
 "nbformat_minor": 2
}
