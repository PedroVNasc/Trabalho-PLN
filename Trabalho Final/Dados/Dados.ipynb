{
 "cells": [
  {
   "cell_type": "markdown",
   "metadata": {},
   "source": [
    "# Processamento dos dados do Corpus"
   ]
  },
  {
   "cell_type": "markdown",
   "metadata": {},
   "source": [
    "## Extração dos dados\n",
    "\n",
    "Foi utilizado o brwac.vert como fonte para os dados de treinamento dos modelos. Para obter acesso a ele, siga as instruções em:\n",
    "\n",
    " [https://www.inf.ufrgs.br/pln/wiki/index.php?title=BrWaC](https://www.inf.ufrgs.br/pln/wiki/index.php?title=BrWaC)"
   ]
  },
  {
   "cell_type": "code",
   "execution_count": 1,
   "metadata": {},
   "outputs": [],
   "source": [
    "import datasets\n",
    "import pandas as pd"
   ]
  },
  {
   "cell_type": "code",
   "execution_count": 4,
   "metadata": {},
   "outputs": [
    {
     "name": "stdout",
     "output_type": "stream",
     "text": [
      "\n",
      "7-Zip [64] 16.02 : Copyright (c) 1999-2016 Igor Pavlov : 2016-05-21\n",
      "p7zip Version 16.02 (locale=pt_BR.UTF-8,Utf16=on,HugeFiles=on,64 bits,8 CPUs AMD Ryzen 5 3500U with Radeon Vega Mobile Gfx   (810F81),ASM,AES-NI)\n",
      "\n",
      "Scanning the drive for archives:\n",
      "  0M Scan ./brwa                1 file, 4778375677 bytes (4558 MiB)\n",
      "\n",
      "Extracting archive: ./brwac/brwac.vert.7z\n",
      "--\n",
      "Path = ./brwac/brwac.vert.7z\n",
      "Type = 7z\n",
      "Physical Size = 4778375677\n",
      "Headers Size = 130\n",
      "Method = LZMA2:26\n",
      "Solid = -\n",
      "Blocks = 1\n",
      "\n",
      "      0% - brwac.ver                  1% - brwac.ver                  2% - brwac.ver                  3% - brwac.ver                  4% - brwac.ver                  5% - brwac.ver                  6% - brwac.ver                  7% - brwac.ver                  8% - brwac.ver                  9% - brwac.ver                 10% - brwac.ver                 11% - brwac.ver                 12% - brwac.ver                 13% - brwac.ver                 14% - brwac.ver                 15% - brwac.ver                 16% - brwac.ver                 17% - brwac.ver                 18% - brwac.ver                 19% - brwac.vert"
     ]
    }
   ],
   "source": [
    "brwac_folder = './brwac'\n",
    "\n",
    "!7z x $brwac_folder/brwac.vert.7z"
   ]
  },
  {
   "cell_type": "code",
   "execution_count": null,
   "metadata": {},
   "outputs": [],
   "source": [
    "data = datasets.load_dataset(\"brwac\", data_dir=brwac_folder)"
   ]
  },
  {
   "cell_type": "code",
   "execution_count": null,
   "metadata": {},
   "outputs": [],
   "source": [
    "data.to_csv('brwac.csv', index=False)"
   ]
  },
  {
   "cell_type": "markdown",
   "metadata": {},
   "source": [
    "## Recorte dos dados\n",
    "\n",
    "Para facilitar a classificação dos dados, foi escolhido um subset do brwac contendo apenas dados de subpáginas UOL."
   ]
  },
  {
   "cell_type": "code",
   "execution_count": null,
   "metadata": {},
   "outputs": [],
   "source": [
    "classes = {\n",
    "    'caras': 0,\n",
    "    'esporte': 0,\n",
    "    'noticias': 0,\n",
    "    'folha': 0,\n",
    "    'educacao': 0,\n",
    "    'jogos': 0,\n",
    "    'tecnologia': 0,\n",
    "}\n",
    "\n",
    "base_uri = 'uol.com.br'"
   ]
  },
  {
   "cell_type": "markdown",
   "metadata": {},
   "source": [
    "### Cria os arquivos CSV das classes"
   ]
  },
  {
   "cell_type": "code",
   "execution_count": null,
   "metadata": {},
   "outputs": [],
   "source": [
    "headers = ['id', 'title', 'uri', 'text']\n",
    "\n",
    "df = pd.DataFrame(columns=headers)\n",
    "\n",
    "for c in classes.keys():\n",
    "    df.to_csv(f\"{c}.brwac.csv\", index=False)"
   ]
  },
  {
   "cell_type": "code",
   "execution_count": null,
   "metadata": {},
   "outputs": [],
   "source": [
    "ck_size = 100000\n",
    "df_iterator = pd.read_csv('brwac.csv', chunksize=ck_size)\n",
    "    \n",
    "for df in df_iterator:\n",
    "    for c in classes.keys():\n",
    "        df[df['uri'].str.contains(f'{c}.{base_uri}')].to_csv(f\"{c}.brwac.csv\", mode='a', header=False, index=False)\n",
    "        \n",
    "        classes[c] += df[df['uri'].str.contains(f'{c}.{base_uri}')].shape[0]\n",
    "        print(f'{c}.{base_uri}: {classes[c]}')\n",
    "        \n",
    "    print()\n",
    "    "
   ]
  }
 ],
 "metadata": {
  "kernelspec": {
   "display_name": "Python 3",
   "language": "python",
   "name": "python3"
  },
  "language_info": {
   "codemirror_mode": {
    "name": "ipython",
    "version": 3
   },
   "file_extension": ".py",
   "mimetype": "text/x-python",
   "name": "python",
   "nbconvert_exporter": "python",
   "pygments_lexer": "ipython3",
   "version": "3.10.0"
  }
 },
 "nbformat": 4,
 "nbformat_minor": 2
}
