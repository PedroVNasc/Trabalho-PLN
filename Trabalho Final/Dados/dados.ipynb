{
 "cells": [
  {
   "cell_type": "markdown",
   "metadata": {},
   "source": [
    "# Processamento dos dados do Corpus"
   ]
  },
  {
   "cell_type": "markdown",
   "metadata": {},
   "source": [
    "## Extração dos dados\n",
    "\n",
    "Foi utilizado o brwac.vert como fonte para os dados de treinamento dos modelos. Para obter acesso a ele, siga as instruções em:\n",
    "\n",
    " [https://www.inf.ufrgs.br/pln/wiki/index.php?title=BrWaC](https://www.inf.ufrgs.br/pln/wiki/index.php?title=BrWaC)"
   ]
  },
  {
   "cell_type": "code",
   "execution_count": null,
   "metadata": {},
   "outputs": [],
   "source": [
    "import datasets\n",
    "import pandas as pd"
   ]
  },
  {
   "cell_type": "code",
   "execution_count": null,
   "metadata": {},
   "outputs": [],
   "source": [
    "brwac_folder = ''\n",
    "\n",
    "!7z x $brwac_folder"
   ]
  },
  {
   "cell_type": "code",
   "execution_count": null,
   "metadata": {},
   "outputs": [],
   "source": [
    "data = datasets.load_dataset(\"brwac\", data_dir=brwac_folder)"
   ]
  },
  {
   "cell_type": "markdown",
   "metadata": {},
   "source": [
    "## Recorte dos dados\n",
    "\n",
    "Para facilitar a classificação dos dados, foi escolhido um subset do brwac contendo apenas dados de subpáginas UOL."
   ]
  },
  {
   "cell_type": "code",
   "execution_count": null,
   "metadata": {},
   "outputs": [],
   "source": [
    "classes = {\n",
    "    'caras': 0,\n",
    "    'esporte': 0,\n",
    "    'noticias': 0,\n",
    "    'folha': 0,\n",
    "    'educacao': 0,\n",
    "    'jogos': 0,\n",
    "    'tecnologia': 0,\n",
    "}\n",
    "\n",
    "base_uri = 'uol.com.br'"
   ]
  },
  {
   "cell_type": "markdown",
   "metadata": {},
   "source": [
    "### Cria os arquivos CSV das classes"
   ]
  },
  {
   "cell_type": "code",
   "execution_count": null,
   "metadata": {},
   "outputs": [],
   "source": [
    "headers = ['id', 'title', 'uri', 'text']\n",
    "\n",
    "df = pd.DataFrame(columns=headers)\n",
    "\n",
    "for c in classes.keys():\n",
    "    df.to_csv(f\"{c}.brwac.csv\", index=False)"
   ]
  },
  {
   "cell_type": "code",
   "execution_count": null,
   "metadata": {},
   "outputs": [],
   "source": [
    "ck_size = 100000\n",
    "df_iterator = pd.read_csv('brwac.csv', chunksize=ck_size)\n",
    "    \n",
    "for df in df_iterator:\n",
    "    for c in classes.keys():\n",
    "        df[df['uri'].str.contains(f'{c}.{base_uri}')].to_csv(f\"{c}.brwac.csv\", mode='a', header=False, index=False)\n",
    "        \n",
    "        classes[c] += df[df['uri'].str.contains(f'{c}.{base_uri}')].shape[0]\n",
    "        print(f'{c}.{base_uri}: {classes[c]}')\n",
    "        \n",
    "    print()\n",
    "    "
   ]
  }
 ],
 "metadata": {
  "kernelspec": {
   "display_name": "Python 3",
   "language": "python",
   "name": "python3"
  },
  "language_info": {
   "codemirror_mode": {
    "name": "ipython",
    "version": 3
   },
   "file_extension": ".py",
   "mimetype": "text/x-python",
   "name": "python",
   "nbconvert_exporter": "python",
   "pygments_lexer": "ipython3",
   "version": "3.10.0"
  }
 },
 "nbformat": 4,
 "nbformat_minor": 2
}
