{
 "cells": [
  {
   "cell_type": "code",
   "execution_count": null,
   "metadata": {},
   "outputs": [],
   "source": [
    "from llama_cpp import Llama\n",
    "\n",
    "llm = Llama(\n",
    "    model_path='./sabia-7b.Q4_0.gguf',\n",
    "    seed=42,\n",
    "    chat_format=\"llama-2\",\n",
    ")"
   ]
  },
  {
   "cell_type": "code",
   "execution_count": null,
   "metadata": {},
   "outputs": [],
   "source": [
    "def rewrite(question: str, context: str | None, full_output=False, seed=42):\n",
    "    context = [\n",
    "        'Você um excelente assistente que reescreve textos segundo bons padrões. Abaixo estão os textos que você deve reescrever:',\n",
    "        'Q: Onde que a gente pode comprar ingressos pro show?',\n",
    "        'A: Onde podemos comprar ingressos para o show?',\n",
    "        'Q: Por que que o céu é azul?',\n",
    "        'A: Por que o céu é azul?',\n",
    "    ] if context is None else context\n",
    "\n",
    "    context.append('Q: ' + question)\n",
    "    context.append('A:')\n",
    "\n",
    "    input_text = '\\n'.join(context)\n",
    "\n",
    "    output = llm(\n",
    "        input_text,\n",
    "        max_tokens=32,\n",
    "        stop=[\"Q:\"],\n",
    "        # seed=seed,\n",
    "        echo=True,\n",
    "    )\n",
    "\n",
    "    return output['choices'][0]['text'].split(':')[-1] if not full_output else output"
   ]
  },
  {
   "cell_type": "markdown",
   "metadata": {},
   "source": [
    "## Caras"
   ]
  },
  {
   "cell_type": "code",
   "execution_count": null,
   "metadata": {},
   "outputs": [],
   "source": []
  },
  {
   "cell_type": "markdown",
   "metadata": {},
   "source": [
    "## Esporte"
   ]
  },
  {
   "cell_type": "code",
   "execution_count": null,
   "metadata": {},
   "outputs": [],
   "source": []
  },
  {
   "cell_type": "markdown",
   "metadata": {},
   "source": [
    "## Notícias"
   ]
  },
  {
   "cell_type": "code",
   "execution_count": null,
   "metadata": {},
   "outputs": [],
   "source": []
  },
  {
   "cell_type": "markdown",
   "metadata": {},
   "source": [
    "## Folha"
   ]
  },
  {
   "cell_type": "code",
   "execution_count": null,
   "metadata": {},
   "outputs": [],
   "source": []
  },
  {
   "cell_type": "markdown",
   "metadata": {},
   "source": [
    "## Educação"
   ]
  },
  {
   "cell_type": "code",
   "execution_count": null,
   "metadata": {},
   "outputs": [],
   "source": []
  },
  {
   "cell_type": "markdown",
   "metadata": {},
   "source": [
    "## Jogos"
   ]
  },
  {
   "cell_type": "code",
   "execution_count": null,
   "metadata": {},
   "outputs": [],
   "source": []
  },
  {
   "cell_type": "markdown",
   "metadata": {},
   "source": [
    "## Tecnologia"
   ]
  },
  {
   "cell_type": "code",
   "execution_count": null,
   "metadata": {},
   "outputs": [],
   "source": []
  }
 ],
 "metadata": {
  "language_info": {
   "name": "python"
  }
 },
 "nbformat": 4,
 "nbformat_minor": 2
}
